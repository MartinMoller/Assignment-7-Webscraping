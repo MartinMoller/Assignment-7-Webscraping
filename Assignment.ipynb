{
 "cells": [
  {
   "cell_type": "markdown",
   "metadata": {},
   "source": [
    "### Part 1: Preparing data\n",
    "\n",
    "- Use selenium to go to dba.dk with any search phrase\n",
    "- Find all products added today\n",
    "- Find only those from 'København og omegn'\n",
    "- create a .py file containing above function as a module that will return the browser page source."
   ]
  },
  {
   "cell_type": "markdown",
   "metadata": {},
   "source": [
    "### Part 2: Extracting the data\n",
    "\n",
    "- Use BeautifulSoup to extract all the products in a different function in the module (see selenium_krak.py for example)\n",
    "- Make a list with tuples of description, year (if available), price, image url and url to details page.\n",
    "- Sort the products by price\n",
    "- Return an html table with all the data"
   ]
  },
  {
   "cell_type": "markdown",
   "metadata": {},
   "source": [
    "### Part 3:\n",
    "- Add functionality to get the phone number for each product."
   ]
  },
  {
   "cell_type": "code",
   "execution_count": null,
   "metadata": {},
   "outputs": [],
   "source": []
  }
 ],
 "metadata": {
  "kernelspec": {
   "display_name": "Python 3",
   "language": "python",
   "name": "python3"
  },
  "language_info": {
   "codemirror_mode": {
    "name": "ipython",
    "version": 3
   },
   "file_extension": ".py",
   "mimetype": "text/x-python",
   "name": "python",
   "nbconvert_exporter": "python",
   "pygments_lexer": "ipython3",
   "version": "3.7.1"
  }
 },
 "nbformat": 4,
 "nbformat_minor": 2
}
